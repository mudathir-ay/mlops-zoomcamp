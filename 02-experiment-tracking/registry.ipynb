{
 "cells": [
  {
   "cell_type": "code",
   "execution_count": 3,
   "metadata": {},
   "outputs": [],
   "source": [
    "import pandas as pd\n",
    "from sklearn.metrics import root_mean_squared_error\n",
    "from mlflow  import MlflowClient\n",
    "mlflow_tracking_uri=\"sqlite:///mlflow.db\"\n",
    "client=MlflowClient(mlflow_tracking_uri)"
   ]
  },
  {
   "cell_type": "code",
   "execution_count": 45,
   "metadata": {},
   "outputs": [
    {
     "name": "stdout",
     "output_type": "stream",
     "text": [
      "{'artifact_location': '/workspaces/mlops-zoomcamp/02-experiment-tracking/mlruns/4', 'creation_time': 1743171826030, 'experiment_id': '4', 'last_update_time': 1743171826030, 'lifecycle_stage': 'active', 'name': 'test-experiment', 'tags': {}}\n",
      "{'artifact_location': '/workspaces/mlops-zoomcamp/02-experiment-tracking/mlruns/2', 'creation_time': 1742825619994, 'experiment_id': '2', 'last_update_time': 1742825619994, 'lifecycle_stage': 'active', 'name': 'nyc-taxi-experiment', 'tags': {}}\n",
      "{'artifact_location': 'mlflow-artifacts:/0', 'creation_time': 1742652750276, 'experiment_id': '0', 'last_update_time': 1742652750276, 'lifecycle_stage': 'active', 'name': 'Default', 'tags': {}}\n"
     ]
    }
   ],
   "source": [
    "for exp in client.search_experiments():\n",
    "    print(dict(exp))"
   ]
  },
  {
   "cell_type": "code",
   "execution_count": 4,
   "metadata": {},
   "outputs": [
    {
     "data": {
      "text/plain": [
       "'4'"
      ]
     },
     "execution_count": 4,
     "metadata": {},
     "output_type": "execute_result"
    }
   ],
   "source": [
    "client.create_experiment(\"test-experiment\")"
   ]
  },
  {
   "cell_type": "code",
   "execution_count": 17,
   "metadata": {},
   "outputs": [],
   "source": [
    "from mlflow.entities.view_type import ViewType\n",
    "runs=client.search_runs(\n",
    "    experiment_ids=\"2\",\n",
    "    max_results=5,\n",
    "    run_view_type=ViewType.ACTIVE_ONLY,\n",
    "    filter_string=\"metrics.rmse <6.4\"\n",
    "\n",
    "\n",
    "\n",
    ")"
   ]
  },
  {
   "cell_type": "code",
   "execution_count": 18,
   "metadata": {},
   "outputs": [
    {
     "name": "stdout",
     "output_type": "stream",
     "text": [
      "runs id: d32c149b25e64a6fa742e515303413a1, rmse: 6.327263733391266\n",
      "runs id: e52d64c57a854c83b29bb398265fb3de, rmse: 6.327263733391266\n",
      "runs id: 1f279ca8e69046288524daba3d3ecea5, rmse: 6.327263733391266\n",
      "runs id: a78800da8f93444bb312e7d19bf293b8, rmse: 6.359498438162637\n",
      "runs id: 707232543b814e74aca48be6c822f9af, rmse: 6.367620917584296\n"
     ]
    }
   ],
   "source": [
    "for run in runs:\n",
    "    print(f\"runs id: {run.info.run_id}, rmse: {run.data.metrics['rmse']}\")"
   ]
  },
  {
   "cell_type": "code",
   "execution_count": 2,
   "metadata": {},
   "outputs": [
    {
     "data": {
      "text/plain": [
       "<Experiment: artifact_location='/workspaces/mlops-zoomcamp/02-experiment-tracking/mlruns/2', creation_time=1742825619994, experiment_id='2', last_update_time=1742825619994, lifecycle_stage='active', name='nyc-taxi-experiment', tags={}>"
      ]
     },
     "execution_count": 2,
     "metadata": {},
     "output_type": "execute_result"
    }
   ],
   "source": [
    "import mlflow\n",
    "mlflow.set_tracking_uri(\"sqlite:///mlflow.db\")\n",
    "mlflow.set_experiment(\"nyc-taxi-experiment\")"
   ]
  },
  {
   "cell_type": "code",
   "execution_count": 47,
   "metadata": {},
   "outputs": [
    {
     "data": {
      "text/plain": [
       "[<RegisteredModel: aliases={'challenger': 1, 'champion': 2}, creation_timestamp=1743158645816, description='', last_updated_timestamp=1743174472331, latest_versions=[<ModelVersion: aliases=[], creation_timestamp=1743174472331, current_stage='None', description=None, last_updated_timestamp=1743174472331, name='nyc_taxi_data_regressor', run_id='84df48e758eb4d63a5dc178c7356a22b', run_link=None, source='/workspaces/mlops-zoomcamp/02-experiment-tracking/mlruns/2/84df48e758eb4d63a5dc178c7356a22b/artifacts/models_mlflow', status='READY', status_message=None, tags={}, user_id=None, version=3>], name='nyc_taxi_data_regressor', tags={}>]"
      ]
     },
     "execution_count": 47,
     "metadata": {},
     "output_type": "execute_result"
    }
   ],
   "source": [
    "client.search_registered_models()"
   ]
  },
  {
   "cell_type": "code",
   "execution_count": 25,
   "metadata": {},
   "outputs": [
    {
     "name": "stderr",
     "output_type": "stream",
     "text": [
      "Registered model 'nyc_taxi_data_regressor' already exists. Creating a new version of this model...\n",
      "Created version '3' of model 'nyc_taxi_data_regressor'.\n"
     ]
    },
    {
     "data": {
      "text/plain": [
       "<ModelVersion: aliases=[], creation_timestamp=1743174472331, current_stage='None', description=None, last_updated_timestamp=1743174472331, name='nyc_taxi_data_regressor', run_id='84df48e758eb4d63a5dc178c7356a22b', run_link=None, source='/workspaces/mlops-zoomcamp/02-experiment-tracking/mlruns/2/84df48e758eb4d63a5dc178c7356a22b/artifacts/models_mlflow', status='READY', status_message=None, tags={}, user_id=None, version=3>"
      ]
     },
     "execution_count": 25,
     "metadata": {},
     "output_type": "execute_result"
    }
   ],
   "source": [
    "mod_uri=\"runs:/84df48e758eb4d63a5dc178c7356a22b/models_mlflow\"\n",
    "mlflow.register_model(mod_uri,\"nyc_taxi_data_regressor\")"
   ]
  },
  {
   "cell_type": "code",
   "execution_count": 78,
   "metadata": {},
   "outputs": [],
   "source": [
    "latest_versions=client.search_model_versions(\n",
    "    filter_string=\"name='nyc_taxi_data_regressor'\",\n",
    "    order_by=[\"version_number ASC\"],\n",
    "\n",
    "\n",
    "\n",
    ")"
   ]
  },
  {
   "cell_type": "code",
   "execution_count": 79,
   "metadata": {},
   "outputs": [
    {
     "name": "stdout",
     "output_type": "stream",
     "text": [
      "version id:1, tags:{'model': 'xgb1'}\n",
      "version id:2, tags:{'model': 'xgb2'}\n",
      "version id:3, tags:{'validation_status': 'pending'}\n"
     ]
    }
   ],
   "source": [
    "for version in latest_versions:\n",
    "    print(f\"version id:{version.version}, tags:{version.tags}\")\n",
    "    #print(f\"version_id: {version.version},alias:{version.aliases}\")"
   ]
  },
  {
   "cell_type": "code",
   "execution_count": 68,
   "metadata": {},
   "outputs": [],
   "source": [
    "client.set_model_version_tag(name=\"nyc_taxi_data_regressor\", version=3, key=\"validation_status\", value=\"pending\")"
   ]
  },
  {
   "cell_type": "code",
   "execution_count": 65,
   "metadata": {},
   "outputs": [],
   "source": [
    "client.set_registered_model_alias(\"nyc_taxi_data_regressor\",\"competitor\",3)"
   ]
  },
  {
   "cell_type": "code",
   "execution_count": 80,
   "metadata": {},
   "outputs": [
    {
     "data": {
      "text/plain": [
       "<ModelVersion: aliases=['competitor'], creation_timestamp=1743174472331, current_stage='None', description='this is the latest version created', last_updated_timestamp=1743177961609, name='nyc_taxi_data_regressor', run_id='84df48e758eb4d63a5dc178c7356a22b', run_link=None, source='/workspaces/mlops-zoomcamp/02-experiment-tracking/mlruns/2/84df48e758eb4d63a5dc178c7356a22b/artifacts/models_mlflow', status='READY', status_message=None, tags={'validation_status': 'pending'}, user_id=None, version=3>"
      ]
     },
     "execution_count": 80,
     "metadata": {},
     "output_type": "execute_result"
    }
   ],
   "source": [
    "client.update_model_version (\n",
    "    name=\"nyc_taxi_data_regressor\",\n",
    "    version=\"3\",\n",
    "    description=\"this is the latest version created\"\n",
    ")"
   ]
  },
  {
   "cell_type": "code",
   "execution_count": 23,
   "metadata": {},
   "outputs": [],
   "source": [
    "def read_dataframe(filename):\n",
    "    df=pd.read_parquet(filename)\n",
    "    df['duration']=df.lpep_dropoff_datetime-df.lpep_pickup_datetime\n",
    "    df.duration=df.duration.apply(lambda x:x.total_seconds()/60)\n",
    "    df=df[(df.duration>=1) & (df.duration<=60)]\n",
    "    categorical=['PULocationID', 'DOLocationID']\n",
    "    df[categorical]=df[categorical].astype(str)\n",
    "    return df\n",
    "def preprocess(df,dv):\n",
    "    df['PU_DO']=df['PULocationID']+\"_\"+df['DOLocationID']\n",
    "    categorical=['PU_DO']\n",
    "    numerical=['trip_distance']\n",
    "    train_dicts=df[categorical+numerical].to_dict(orient=\"records\")\n",
    "    return dv.transform(train_dicts)\n",
    "def test_model(X_test, y_test, alias,name=\"nyc_taxi_data_regressor\"):\n",
    "    model=mlflow.pyfunc.load_model(f\"models:/{name}@{alias}\")\n",
    "    y_pred=model.predict(X_test)\n",
    "    return {\"rmse\":root_mean_squared_error(y_test,y_pred)}\n",
    "    "
   ]
  },
  {
   "cell_type": "code",
   "execution_count": 5,
   "metadata": {},
   "outputs": [],
   "source": [
    "df=read_dataframe(\"./data/green_tripdata_2021-03.parquet\")"
   ]
  },
  {
   "cell_type": "code",
   "execution_count": 6,
   "metadata": {},
   "outputs": [
    {
     "name": "stdout",
     "output_type": "stream",
     "text": [
      "/workspaces/mlops-zoomcamp/02-experiment-tracking\n"
     ]
    }
   ],
   "source": [
    "!pwd"
   ]
  },
  {
   "cell_type": "code",
   "execution_count": 7,
   "metadata": {},
   "outputs": [
    {
     "data": {
      "application/vnd.jupyter.widget-view+json": {
       "model_id": "87461dfbae784a1189c54537f2cadf36",
       "version_major": 2,
       "version_minor": 0
      },
      "text/plain": [
       "Downloading artifacts:   0%|          | 0/1 [00:00<?, ?it/s]"
      ]
     },
     "metadata": {},
     "output_type": "display_data"
    },
    {
     "data": {
      "text/plain": [
       "'/workspaces/mlops-zoomcamp/02-experiment-tracking/preprocessor'"
      ]
     },
     "execution_count": 7,
     "metadata": {},
     "output_type": "execute_result"
    }
   ],
   "source": [
    "client.download_artifacts(run_id=\"20470a7bb98947a7934e62baa723dd80\", path=\"preprocessor\",dst_path=\".\")"
   ]
  },
  {
   "cell_type": "code",
   "execution_count": 9,
   "metadata": {},
   "outputs": [],
   "source": [
    "import pickle\n",
    "with open(\"./preprocessor/preprocessor.b\",\"rb\") as fin:\n",
    "    dv=pickle.load(fin)"
   ]
  },
  {
   "cell_type": "code",
   "execution_count": 10,
   "metadata": {},
   "outputs": [],
   "source": [
    "X_test=preprocess(df,dv)"
   ]
  },
  {
   "cell_type": "code",
   "execution_count": 13,
   "metadata": {},
   "outputs": [
    {
     "data": {
      "text/plain": [
       "<80372x13221 sparse matrix of type '<class 'numpy.float64'>'\n",
       "\twith 153356 stored elements in Compressed Sparse Row format>"
      ]
     },
     "execution_count": 13,
     "metadata": {},
     "output_type": "execute_result"
    }
   ],
   "source": [
    "X_test"
   ]
  },
  {
   "cell_type": "code",
   "execution_count": 11,
   "metadata": {},
   "outputs": [],
   "source": [
    "y_test=df[\"duration\"].values"
   ]
  },
  {
   "cell_type": "code",
   "execution_count": 12,
   "metadata": {},
   "outputs": [
    {
     "name": "stdout",
     "output_type": "stream",
     "text": [
      "80372\n"
     ]
    }
   ],
   "source": [
    "print(len(y_test))"
   ]
  },
  {
   "cell_type": "code",
   "execution_count": 26,
   "metadata": {},
   "outputs": [
    {
     "name": "stdout",
     "output_type": "stream",
     "text": [
      "{'rmse': 6.268277779785903}\n",
      "{'rmse': 6.268277779785903}\n",
      "{'rmse': 6.308751518920858}\n"
     ]
    }
   ],
   "source": [
    "print(test_model(X_test,y_test,\"champion\"))\n",
    "print(test_model(X_test,y_test,\"challenger\"))\n",
    "print(test_model(X_test,y_test,\"competitor\"))"
   ]
  },
  {
   "cell_type": "code",
   "execution_count": 27,
   "metadata": {},
   "outputs": [],
   "source": [
    "client.set_registered_model_alias(\"nyc_taxi_data_regressor\", \"champion\", 3)"
   ]
  }
 ],
 "metadata": {
  "kernelspec": {
   "display_name": "Python 3",
   "language": "python",
   "name": "python3"
  },
  "language_info": {
   "codemirror_mode": {
    "name": "ipython",
    "version": 3
   },
   "file_extension": ".py",
   "mimetype": "text/x-python",
   "name": "python",
   "nbconvert_exporter": "python",
   "pygments_lexer": "ipython3",
   "version": "3.9.21"
  }
 },
 "nbformat": 4,
 "nbformat_minor": 2
}
