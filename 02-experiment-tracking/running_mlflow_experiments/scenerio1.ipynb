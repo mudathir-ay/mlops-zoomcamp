{
 "cells": [
  {
   "cell_type": "markdown",
   "metadata": {},
   "source": [
    "SCENERION 1: FOR A DATA SCIENTIST CONTESTING IN AN ML COMPETITION\n",
    "BACKEND STORE:LOCAL FILESYSTEM\n",
    "ARTIFACT STORE: LOCAL FILESYSTEM\n",
    "TRACKING SERVER: NO"
   ]
  },
  {
   "cell_type": "code",
   "execution_count": 1,
   "metadata": {},
   "outputs": [],
   "source": [
    "import mlflow"
   ]
  },
  {
   "cell_type": "code",
   "execution_count": 2,
   "metadata": {},
   "outputs": [
    {
     "name": "stdout",
     "output_type": "stream",
     "text": [
      "file:///workspaces/mlops-zoomcamp/02-experiment-tracking/running_mlflow_experiments/mlruns\n"
     ]
    }
   ],
   "source": [
    "print(mlflow.get_tracking_uri())"
   ]
  },
  {
   "cell_type": "code",
   "execution_count": 10,
   "metadata": {},
   "outputs": [
    {
     "data": {
      "text/plain": [
       "[<Experiment: artifact_location='file:///workspaces/mlops-zoomcamp/02-experiment-tracking/running_mlflow_experiments/mlruns/616683954618788332', creation_time=1743251826892, experiment_id='616683954618788332', last_update_time=1743251826892, lifecycle_stage='active', name='my-experiment-2', tags={}>,\n",
       " <Experiment: artifact_location='file:///workspaces/mlops-zoomcamp/02-experiment-tracking/running_mlflow_experiments/mlruns/0', creation_time=1743250362812, experiment_id='0', last_update_time=1743250362812, lifecycle_stage='active', name='Default', tags={}>]"
      ]
     },
     "execution_count": 10,
     "metadata": {},
     "output_type": "execute_result"
    }
   ],
   "source": [
    "mlflow.search_experiments()"
   ]
  },
  {
   "cell_type": "code",
   "execution_count": 14,
   "metadata": {},
   "outputs": [
    {
     "name": "stderr",
     "output_type": "stream",
     "text": [
      "2025/03/29 12:44:01 INFO mlflow.tracking.fluent: Experiment with name 'my-experiment-0' does not exist. Creating a new experiment.\n"
     ]
    },
    {
     "data": {
      "text/plain": [
       "<Experiment: artifact_location='file:///workspaces/mlops-zoomcamp/02-experiment-tracking/running_mlflow_experiments/mlruns/784613312181871528', creation_time=1743252241394, experiment_id='784613312181871528', last_update_time=1743252241394, lifecycle_stage='active', name='my-experiment-0', tags={}>"
      ]
     },
     "execution_count": 14,
     "metadata": {},
     "output_type": "execute_result"
    }
   ],
   "source": [
    "from sklearn.linear_model import LogisticRegression\n",
    "from sklearn.datasets import load_iris\n",
    "from sklearn.metrics import accuracy_score\n",
    "mlflow.set_experiment(\"my-experiment-0\")"
   ]
  },
  {
   "cell_type": "code",
   "execution_count": 15,
   "metadata": {},
   "outputs": [
    {
     "name": "stdout",
     "output_type": "stream",
     "text": [
      "0.96\n"
     ]
    },
    {
     "name": "stderr",
     "output_type": "stream",
     "text": [
      "\u001b[31m2025/03/29 12:44:10 WARNING mlflow.models.model: Model logged without a signature and input example. Please set `input_example` parameter when logging the model to auto infer the model signature.\u001b[0m\n"
     ]
    },
    {
     "name": "stdout",
     "output_type": "stream",
     "text": [
      "default artifcat uri: file:///workspaces/mlops-zoomcamp/02-experiment-tracking/running_mlflow_experiments/mlruns/784613312181871528/725ea3d8c61641669ac76914551a6c36/artifacts\n"
     ]
    }
   ],
   "source": [
    "with mlflow.start_run():\n",
    "    mlflow.set_tag(\"model\",\"logistic_regression\")\n",
    "    X,y=load_iris(return_X_y=True)\n",
    "    params={\"C\":0.1, \"random_state\":42}\n",
    "    mlflow.log_params(params)\n",
    "    lr=LogisticRegression(**params)\n",
    "    lr.fit(X,y)\n",
    "    y_pred=lr.predict(X)\n",
    "    mlflow.log_metric(\"accuracy_score\", accuracy_score(y,y_pred))\n",
    "    print(accuracy_score(y,y_pred))\n",
    "    mlflow.sklearn.log_model(lr, \"models\")\n",
    "    print(f\"default artifcat uri: {mlflow.get_artifact_uri()}\")"
   ]
  },
  {
   "cell_type": "code",
   "execution_count": 16,
   "metadata": {},
   "outputs": [],
   "source": [
    "from mlflow import MlflowClient\n",
    "\n",
    "client=MlflowClient()"
   ]
  },
  {
   "cell_type": "code",
   "execution_count": 17,
   "metadata": {},
   "outputs": [
    {
     "data": {
      "text/plain": [
       "[]"
      ]
     },
     "execution_count": 17,
     "metadata": {},
     "output_type": "execute_result"
    }
   ],
   "source": [
    "client.search_registered_models()"
   ]
  }
 ],
 "metadata": {
  "kernelspec": {
   "display_name": "Python 3",
   "language": "python",
   "name": "python3"
  },
  "language_info": {
   "codemirror_mode": {
    "name": "ipython",
    "version": 3
   },
   "file_extension": ".py",
   "mimetype": "text/x-python",
   "name": "python",
   "nbconvert_exporter": "python",
   "pygments_lexer": "ipython3",
   "version": "3.9.21"
  }
 },
 "nbformat": 4,
 "nbformat_minor": 2
}
